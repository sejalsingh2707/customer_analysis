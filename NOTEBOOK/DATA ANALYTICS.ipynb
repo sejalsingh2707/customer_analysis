{
 "cells": [
  {
   "cell_type": "code",
   "execution_count": 37,
   "metadata": {},
   "outputs": [],
   "source": [
    "#importing necessary libraries \n",
    "import numpy as np\n",
    "import pandas as pd\n",
    "import matplotlib.pyplot as plt\n",
    "import seaborn as sns\n"
   ]
  },
  {
   "cell_type": "code",
   "execution_count": 38,
   "metadata": {},
   "outputs": [
    {
     "data": {
      "text/html": [
       "<div>\n",
       "<style scoped>\n",
       "    .dataframe tbody tr th:only-of-type {\n",
       "        vertical-align: middle;\n",
       "    }\n",
       "\n",
       "    .dataframe tbody tr th {\n",
       "        vertical-align: top;\n",
       "    }\n",
       "\n",
       "    .dataframe thead th {\n",
       "        text-align: right;\n",
       "    }\n",
       "</style>\n",
       "<table border=\"1\" class=\"dataframe\">\n",
       "  <thead>\n",
       "    <tr style=\"text-align: right;\">\n",
       "      <th></th>\n",
       "      <th>Customer_ID</th>\n",
       "      <th>Age</th>\n",
       "      <th>Gender</th>\n",
       "      <th>Occupation</th>\n",
       "      <th>Income_Bracket</th>\n",
       "      <th>Family_Size</th>\n",
       "      <th>Marital_Status</th>\n",
       "      <th>Education_Level</th>\n",
       "      <th>Region</th>\n",
       "      <th>Monthly_Revenue</th>\n",
       "      <th>...</th>\n",
       "      <th>Last_Interaction_Days</th>\n",
       "      <th>Number_of_Complaints</th>\n",
       "      <th>Payment_Method</th>\n",
       "      <th>Bill_Payment_Timeliness</th>\n",
       "      <th>Outstanding_Balance</th>\n",
       "      <th>Loyalty_Points</th>\n",
       "      <th>Campaign_Responses</th>\n",
       "      <th>Social_Media_Activity</th>\n",
       "      <th>Network_Complaints</th>\n",
       "      <th>Service_Downtime_Impact</th>\n",
       "    </tr>\n",
       "  </thead>\n",
       "  <tbody>\n",
       "    <tr>\n",
       "      <th>0</th>\n",
       "      <td>CUST_00001</td>\n",
       "      <td>54</td>\n",
       "      <td>Female</td>\n",
       "      <td>Student</td>\n",
       "      <td>&lt;$50K</td>\n",
       "      <td>2</td>\n",
       "      <td>Married</td>\n",
       "      <td>Bachelors</td>\n",
       "      <td>North</td>\n",
       "      <td>528.830083</td>\n",
       "      <td>...</td>\n",
       "      <td>305</td>\n",
       "      <td>0</td>\n",
       "      <td>UPI</td>\n",
       "      <td>Late by &gt;5 Days</td>\n",
       "      <td>482.132987</td>\n",
       "      <td>997</td>\n",
       "      <td>6</td>\n",
       "      <td>High</td>\n",
       "      <td>2</td>\n",
       "      <td>Low</td>\n",
       "    </tr>\n",
       "    <tr>\n",
       "      <th>1</th>\n",
       "      <td>CUST_00002</td>\n",
       "      <td>22</td>\n",
       "      <td>Male</td>\n",
       "      <td>Student</td>\n",
       "      <td>$50K–$100K</td>\n",
       "      <td>3</td>\n",
       "      <td>Single</td>\n",
       "      <td>PhD</td>\n",
       "      <td>West</td>\n",
       "      <td>885.610365</td>\n",
       "      <td>...</td>\n",
       "      <td>297</td>\n",
       "      <td>8</td>\n",
       "      <td>Debit Card</td>\n",
       "      <td>On Time</td>\n",
       "      <td>364.522598</td>\n",
       "      <td>978</td>\n",
       "      <td>5</td>\n",
       "      <td>High</td>\n",
       "      <td>7</td>\n",
       "      <td>High</td>\n",
       "    </tr>\n",
       "    <tr>\n",
       "      <th>2</th>\n",
       "      <td>CUST_00003</td>\n",
       "      <td>41</td>\n",
       "      <td>Female</td>\n",
       "      <td>Professional</td>\n",
       "      <td>$50K–$100K</td>\n",
       "      <td>4</td>\n",
       "      <td>Divorced</td>\n",
       "      <td>PhD</td>\n",
       "      <td>West</td>\n",
       "      <td>449.301745</td>\n",
       "      <td>...</td>\n",
       "      <td>343</td>\n",
       "      <td>6</td>\n",
       "      <td>UPI</td>\n",
       "      <td>On Time</td>\n",
       "      <td>181.326469</td>\n",
       "      <td>587</td>\n",
       "      <td>4</td>\n",
       "      <td>Moderate</td>\n",
       "      <td>1</td>\n",
       "      <td>High</td>\n",
       "    </tr>\n",
       "  </tbody>\n",
       "</table>\n",
       "<p>3 rows × 30 columns</p>\n",
       "</div>"
      ],
      "text/plain": [
       "  Customer_ID  Age  Gender    Occupation Income_Bracket  Family_Size  \\\n",
       "0  CUST_00001   54  Female       Student          <$50K            2   \n",
       "1  CUST_00002   22    Male       Student     $50K–$100K            3   \n",
       "2  CUST_00003   41  Female  Professional     $50K–$100K            4   \n",
       "\n",
       "  Marital_Status Education_Level Region  Monthly_Revenue  ...  \\\n",
       "0        Married       Bachelors  North       528.830083  ...   \n",
       "1         Single             PhD   West       885.610365  ...   \n",
       "2       Divorced             PhD   West       449.301745  ...   \n",
       "\n",
       "   Last_Interaction_Days  Number_of_Complaints  Payment_Method  \\\n",
       "0                    305                     0             UPI   \n",
       "1                    297                     8      Debit Card   \n",
       "2                    343                     6             UPI   \n",
       "\n",
       "   Bill_Payment_Timeliness Outstanding_Balance Loyalty_Points  \\\n",
       "0          Late by >5 Days          482.132987            997   \n",
       "1                  On Time          364.522598            978   \n",
       "2                  On Time          181.326469            587   \n",
       "\n",
       "   Campaign_Responses  Social_Media_Activity Network_Complaints  \\\n",
       "0                   6                   High                  2   \n",
       "1                   5                   High                  7   \n",
       "2                   4               Moderate                  1   \n",
       "\n",
       "  Service_Downtime_Impact  \n",
       "0                     Low  \n",
       "1                    High  \n",
       "2                    High  \n",
       "\n",
       "[3 rows x 30 columns]"
      ]
     },
     "execution_count": 38,
     "metadata": {},
     "output_type": "execute_result"
    }
   ],
   "source": [
    "#import the data into dataframe\n",
    "df=pd.read_csv(r\"C:\\Users\\sejal\\OneDrive\\Desktop\\customer_segmentation_project\\data\\customer_segment_data.csv\")\n",
    "# dataframe\n",
    "df.head(3)"
   ]
  },
  {
   "cell_type": "code",
   "execution_count": 39,
   "metadata": {},
   "outputs": [
    {
     "name": "stdout",
     "output_type": "stream",
     "text": [
      "the total data points:\n"
     ]
    },
    {
     "data": {
      "text/plain": [
       "(500, 30)"
      ]
     },
     "execution_count": 39,
     "metadata": {},
     "output_type": "execute_result"
    }
   ],
   "source": [
    "#Find out the total points of the dataframe\n",
    "print(\"the total data points:\")\n",
    "df.shape"
   ]
  },
  {
   "cell_type": "code",
   "execution_count": 40,
   "metadata": {},
   "outputs": [
    {
     "name": "stdout",
     "output_type": "stream",
     "text": [
      "Summary of the data frame:\n",
      "<class 'pandas.core.frame.DataFrame'>\n",
      "RangeIndex: 500 entries, 0 to 499\n",
      "Data columns (total 30 columns):\n",
      " #   Column                     Non-Null Count  Dtype  \n",
      "---  ------                     --------------  -----  \n",
      " 0   Customer_ID                500 non-null    object \n",
      " 1   Age                        500 non-null    int64  \n",
      " 2   Gender                     500 non-null    object \n",
      " 3   Occupation                 500 non-null    object \n",
      " 4   Income_Bracket             500 non-null    object \n",
      " 5   Family_Size                500 non-null    int64  \n",
      " 6   Marital_Status             500 non-null    object \n",
      " 7   Education_Level            500 non-null    object \n",
      " 8   Region                     500 non-null    object \n",
      " 9   Monthly_Revenue            500 non-null    float64\n",
      " 10  CLTV                       500 non-null    float64\n",
      " 11  Avg_Monthly_Data_Usage_GB  500 non-null    float64\n",
      " 12  Avg_Call_Duration_Minutes  500 non-null    float64\n",
      " 13  Monthly_Transactions       500 non-null    int64  \n",
      " 14  Churn_Status               500 non-null    object \n",
      " 15  Subscription_Type          500 non-null    object \n",
      " 16  Retention_Offers_Availed   500 non-null    int64  \n",
      " 17  Feedback_Score             500 non-null    int64  \n",
      " 18  Preferred_Product_Type     500 non-null    object \n",
      " 19  Peak_Usage_Time            500 non-null    object \n",
      " 20  Last_Interaction_Days      500 non-null    int64  \n",
      " 21  Number_of_Complaints       500 non-null    int64  \n",
      " 22  Payment_Method             500 non-null    object \n",
      " 23  Bill_Payment_Timeliness    500 non-null    object \n",
      " 24  Outstanding_Balance        500 non-null    float64\n",
      " 25  Loyalty_Points             500 non-null    int64  \n",
      " 26  Campaign_Responses         500 non-null    int64  \n",
      " 27  Social_Media_Activity      500 non-null    object \n",
      " 28  Network_Complaints         500 non-null    int64  \n",
      " 29  Service_Downtime_Impact    500 non-null    object \n",
      "dtypes: float64(5), int64(10), object(15)\n",
      "memory usage: 117.3+ KB\n"
     ]
    }
   ],
   "source": [
    "#summarize the data dataframe\n",
    "print(\"Summary of the data frame:\")\n",
    "df.info()"
   ]
  },
  {
   "cell_type": "code",
   "execution_count": 41,
   "metadata": {},
   "outputs": [
    {
     "name": "stdout",
     "output_type": "stream",
     "text": [
      "mathematical view of the dataframe:\n"
     ]
    },
    {
     "data": {
      "text/html": [
       "<div>\n",
       "<style scoped>\n",
       "    .dataframe tbody tr th:only-of-type {\n",
       "        vertical-align: middle;\n",
       "    }\n",
       "\n",
       "    .dataframe tbody tr th {\n",
       "        vertical-align: top;\n",
       "    }\n",
       "\n",
       "    .dataframe thead th {\n",
       "        text-align: right;\n",
       "    }\n",
       "</style>\n",
       "<table border=\"1\" class=\"dataframe\">\n",
       "  <thead>\n",
       "    <tr style=\"text-align: right;\">\n",
       "      <th></th>\n",
       "      <th>Age</th>\n",
       "      <th>Family_Size</th>\n",
       "      <th>Monthly_Revenue</th>\n",
       "      <th>CLTV</th>\n",
       "      <th>Avg_Monthly_Data_Usage_GB</th>\n",
       "      <th>Avg_Call_Duration_Minutes</th>\n",
       "      <th>Monthly_Transactions</th>\n",
       "      <th>Retention_Offers_Availed</th>\n",
       "      <th>Feedback_Score</th>\n",
       "      <th>Last_Interaction_Days</th>\n",
       "      <th>Number_of_Complaints</th>\n",
       "      <th>Outstanding_Balance</th>\n",
       "      <th>Loyalty_Points</th>\n",
       "      <th>Campaign_Responses</th>\n",
       "      <th>Network_Complaints</th>\n",
       "    </tr>\n",
       "  </thead>\n",
       "  <tbody>\n",
       "    <tr>\n",
       "      <th>count</th>\n",
       "      <td>500.000000</td>\n",
       "      <td>500.000000</td>\n",
       "      <td>500.000000</td>\n",
       "      <td>500.000000</td>\n",
       "      <td>500.000000</td>\n",
       "      <td>500.000000</td>\n",
       "      <td>500.00000</td>\n",
       "      <td>500.000000</td>\n",
       "      <td>500.000000</td>\n",
       "      <td>500.000000</td>\n",
       "      <td>500.000000</td>\n",
       "      <td>500.000000</td>\n",
       "      <td>500.000000</td>\n",
       "      <td>500.00000</td>\n",
       "      <td>500.000000</td>\n",
       "    </tr>\n",
       "    <tr>\n",
       "      <th>mean</th>\n",
       "      <td>41.106000</td>\n",
       "      <td>3.100000</td>\n",
       "      <td>529.157423</td>\n",
       "      <td>10508.542399</td>\n",
       "      <td>102.697786</td>\n",
       "      <td>30.864343</td>\n",
       "      <td>25.68400</td>\n",
       "      <td>2.066000</td>\n",
       "      <td>5.494000</td>\n",
       "      <td>185.112000</td>\n",
       "      <td>4.362000</td>\n",
       "      <td>246.404763</td>\n",
       "      <td>490.604000</td>\n",
       "      <td>4.41400</td>\n",
       "      <td>4.638000</td>\n",
       "    </tr>\n",
       "    <tr>\n",
       "      <th>std</th>\n",
       "      <td>13.477762</td>\n",
       "      <td>1.404973</td>\n",
       "      <td>268.395657</td>\n",
       "      <td>5512.831483</td>\n",
       "      <td>58.421307</td>\n",
       "      <td>17.421208</td>\n",
       "      <td>14.28188</td>\n",
       "      <td>1.423269</td>\n",
       "      <td>2.892524</td>\n",
       "      <td>103.429003</td>\n",
       "      <td>2.831783</td>\n",
       "      <td>147.100906</td>\n",
       "      <td>297.230711</td>\n",
       "      <td>2.86129</td>\n",
       "      <td>2.750652</td>\n",
       "    </tr>\n",
       "    <tr>\n",
       "      <th>min</th>\n",
       "      <td>18.000000</td>\n",
       "      <td>1.000000</td>\n",
       "      <td>51.818955</td>\n",
       "      <td>1041.421776</td>\n",
       "      <td>1.518748</td>\n",
       "      <td>1.091746</td>\n",
       "      <td>1.00000</td>\n",
       "      <td>0.000000</td>\n",
       "      <td>1.000000</td>\n",
       "      <td>0.000000</td>\n",
       "      <td>0.000000</td>\n",
       "      <td>1.024470</td>\n",
       "      <td>0.000000</td>\n",
       "      <td>0.00000</td>\n",
       "      <td>0.000000</td>\n",
       "    </tr>\n",
       "    <tr>\n",
       "      <th>25%</th>\n",
       "      <td>30.000000</td>\n",
       "      <td>2.000000</td>\n",
       "      <td>297.658541</td>\n",
       "      <td>5436.478964</td>\n",
       "      <td>50.298068</td>\n",
       "      <td>15.757810</td>\n",
       "      <td>14.00000</td>\n",
       "      <td>1.000000</td>\n",
       "      <td>3.000000</td>\n",
       "      <td>98.500000</td>\n",
       "      <td>2.000000</td>\n",
       "      <td>106.854967</td>\n",
       "      <td>225.000000</td>\n",
       "      <td>2.00000</td>\n",
       "      <td>2.000000</td>\n",
       "    </tr>\n",
       "    <tr>\n",
       "      <th>50%</th>\n",
       "      <td>41.000000</td>\n",
       "      <td>3.000000</td>\n",
       "      <td>523.151166</td>\n",
       "      <td>10937.555212</td>\n",
       "      <td>103.298082</td>\n",
       "      <td>31.432663</td>\n",
       "      <td>26.00000</td>\n",
       "      <td>2.000000</td>\n",
       "      <td>5.000000</td>\n",
       "      <td>181.000000</td>\n",
       "      <td>4.000000</td>\n",
       "      <td>252.734830</td>\n",
       "      <td>485.000000</td>\n",
       "      <td>4.00000</td>\n",
       "      <td>5.000000</td>\n",
       "    </tr>\n",
       "    <tr>\n",
       "      <th>75%</th>\n",
       "      <td>53.000000</td>\n",
       "      <td>4.000000</td>\n",
       "      <td>754.989925</td>\n",
       "      <td>15077.901578</td>\n",
       "      <td>157.052741</td>\n",
       "      <td>46.465803</td>\n",
       "      <td>38.00000</td>\n",
       "      <td>3.000000</td>\n",
       "      <td>8.000000</td>\n",
       "      <td>279.000000</td>\n",
       "      <td>7.000000</td>\n",
       "      <td>374.777275</td>\n",
       "      <td>750.250000</td>\n",
       "      <td>7.00000</td>\n",
       "      <td>7.000000</td>\n",
       "    </tr>\n",
       "    <tr>\n",
       "      <th>max</th>\n",
       "      <td>64.000000</td>\n",
       "      <td>5.000000</td>\n",
       "      <td>999.285749</td>\n",
       "      <td>19893.098333</td>\n",
       "      <td>199.774432</td>\n",
       "      <td>59.871513</td>\n",
       "      <td>49.00000</td>\n",
       "      <td>4.000000</td>\n",
       "      <td>10.000000</td>\n",
       "      <td>364.000000</td>\n",
       "      <td>9.000000</td>\n",
       "      <td>499.306399</td>\n",
       "      <td>999.000000</td>\n",
       "      <td>9.00000</td>\n",
       "      <td>9.000000</td>\n",
       "    </tr>\n",
       "  </tbody>\n",
       "</table>\n",
       "</div>"
      ],
      "text/plain": [
       "              Age  Family_Size  Monthly_Revenue          CLTV  \\\n",
       "count  500.000000   500.000000       500.000000    500.000000   \n",
       "mean    41.106000     3.100000       529.157423  10508.542399   \n",
       "std     13.477762     1.404973       268.395657   5512.831483   \n",
       "min     18.000000     1.000000        51.818955   1041.421776   \n",
       "25%     30.000000     2.000000       297.658541   5436.478964   \n",
       "50%     41.000000     3.000000       523.151166  10937.555212   \n",
       "75%     53.000000     4.000000       754.989925  15077.901578   \n",
       "max     64.000000     5.000000       999.285749  19893.098333   \n",
       "\n",
       "       Avg_Monthly_Data_Usage_GB  Avg_Call_Duration_Minutes  \\\n",
       "count                 500.000000                 500.000000   \n",
       "mean                  102.697786                  30.864343   \n",
       "std                    58.421307                  17.421208   \n",
       "min                     1.518748                   1.091746   \n",
       "25%                    50.298068                  15.757810   \n",
       "50%                   103.298082                  31.432663   \n",
       "75%                   157.052741                  46.465803   \n",
       "max                   199.774432                  59.871513   \n",
       "\n",
       "       Monthly_Transactions  Retention_Offers_Availed  Feedback_Score  \\\n",
       "count             500.00000                500.000000      500.000000   \n",
       "mean               25.68400                  2.066000        5.494000   \n",
       "std                14.28188                  1.423269        2.892524   \n",
       "min                 1.00000                  0.000000        1.000000   \n",
       "25%                14.00000                  1.000000        3.000000   \n",
       "50%                26.00000                  2.000000        5.000000   \n",
       "75%                38.00000                  3.000000        8.000000   \n",
       "max                49.00000                  4.000000       10.000000   \n",
       "\n",
       "       Last_Interaction_Days  Number_of_Complaints  Outstanding_Balance  \\\n",
       "count             500.000000            500.000000           500.000000   \n",
       "mean              185.112000              4.362000           246.404763   \n",
       "std               103.429003              2.831783           147.100906   \n",
       "min                 0.000000              0.000000             1.024470   \n",
       "25%                98.500000              2.000000           106.854967   \n",
       "50%               181.000000              4.000000           252.734830   \n",
       "75%               279.000000              7.000000           374.777275   \n",
       "max               364.000000              9.000000           499.306399   \n",
       "\n",
       "       Loyalty_Points  Campaign_Responses  Network_Complaints  \n",
       "count      500.000000           500.00000          500.000000  \n",
       "mean       490.604000             4.41400            4.638000  \n",
       "std        297.230711             2.86129            2.750652  \n",
       "min          0.000000             0.00000            0.000000  \n",
       "25%        225.000000             2.00000            2.000000  \n",
       "50%        485.000000             4.00000            5.000000  \n",
       "75%        750.250000             7.00000            7.000000  \n",
       "max        999.000000             9.00000            9.000000  "
      ]
     },
     "execution_count": 41,
     "metadata": {},
     "output_type": "execute_result"
    }
   ],
   "source": [
    "#statistical inference of the dataframe\n",
    "print(\"mathematical view of the dataframe:\")\n",
    "df.describe()"
   ]
  },
  {
   "cell_type": "code",
   "execution_count": 52,
   "metadata": {},
   "outputs": [
    {
     "data": {
      "image/png": "[encoded data removed]",
      "text/plain": [
       "<Figure size 500x500 with 1 Axes>"
      ]
     },
     "metadata": {},
     "output_type": "display_data"
    }
   ],
   "source": [
    "#what is the distribution of customers in  dataset\n",
    "#how are customers distributed by gender and region\n",
    "plt.figure(figsize=(5,5))\n",
    "sns.histplot(df['Age'],bins=20,kde=True,color='skyblue')\n",
    "plt.title='Age distribution of customers'\n",
    "plt.xlabel='Age'\n",
    "plt.ylabel='Frequency'\n",
    "plt.show()"
   ]
  },
  {
   "cell_type": "code",
   "execution_count": 43,
   "metadata": {},
   "outputs": [
    {
     "data": {
      "text/plain": [
       "Gender\n",
       "Male      264\n",
       "Female    236\n",
       "Name: count, dtype: int64"
      ]
     },
     "execution_count": 43,
     "metadata": {},
     "output_type": "execute_result"
    }
   ],
   "source": [
    "#number of customers based on genders\n",
    "df['Gender'].value_counts()"
   ]
  },
  {
   "cell_type": "code",
   "execution_count": 51,
   "metadata": {},
   "outputs": [
    {
     "data": {
      "image/png": "[encoded data removed]",
      "text/plain": [
       "<Figure size 200x400 with 1 Axes>"
      ]
     },
     "metadata": {},
     "output_type": "display_data"
    }
   ],
   "source": [
    "gender_count=df['Gender'].value_counts()\n",
    "plt.figure(figsize=(2,4))\n",
    "gender_count.plot(kind='bar',color=['pink','blue'])\n",
    "plt.xlabel=\"gender\"\n",
    "plt.ylabel='count'\n",
    "plt.title=\"distribution of customer based on gender\"\n",
    "plt.show()\n",
    "                  \n",
    "                  \n"
   ]
  },
  {
   "cell_type": "code",
   "execution_count": 45,
   "metadata": {},
   "outputs": [
    {
     "data": {
      "text/plain": [
       "Region\n",
       "West     134\n",
       "East     124\n",
       "North    121\n",
       "South    121\n",
       "Name: count, dtype: int64"
      ]
     },
     "execution_count": 45,
     "metadata": {},
     "output_type": "execute_result"
    }
   ],
   "source": [
    "#distribution based on region\n",
    "df['Region'].value_counts()\n"
   ]
  },
  {
   "cell_type": "code",
   "execution_count": 50,
   "metadata": {},
   "outputs": [
    {
     "data": {
      "image/png": "[encoded data removed]",
      "text/plain": [
       "<Figure size 400x200 with 1 Axes>"
      ]
     },
     "metadata": {},
     "output_type": "display_data"
    }
   ],
   "source": [
    "region_distribution=df['Region'].value_counts()\n",
    "plt.figure(figsize=(4,2))\n",
    "region_distribution.plot(kind='bar',color=['blue'])\n",
    "plt.title=\"distribution of Regions\"\n",
    "plt.xlabel='region'\n",
    "plt.ylabel='count'\n",
    "plt.show()"
   ]
  },
  {
   "cell_type": "code",
   "execution_count": 56,
   "metadata": {},
   "outputs": [
    {
     "data": {
      "image/png": "[encoded data removed]",
      "text/plain": [
       "<Figure size 600x800 with 1 Axes>"
      ]
     },
     "metadata": {},
     "output_type": "display_data"
    }
   ],
   "source": [
    "Average_Revenue=df.groupby('Region')['Monthly_Revenue'].mean()\n",
    "plt.figure(figsize=(6,8))\n",
    "Average_Revenue.plot(kind='bar',color=['Pink'])\n",
    "plt.title=\"Average of monthly revenue based on region\"\n",
    "plt.xlabel='Revenue'\n",
    "plt.ylabel='Region'\n",
    "plt.show()\n"
   ]
  },
  {
   "cell_type": "code",
   "execution_count": 64,
   "metadata": {},
   "outputs": [
    {
     "data": {
      "image/png": "[encoded data removed]",
      "text/plain": [
       "<Figure size 400x200 with 1 Axes>"
      ]
     },
     "metadata": {},
     "output_type": "display_data"
    }
   ],
   "source": [
    "\n",
    "#which region has the highest cltv\n",
    "highest_cltv=df.groupby('Region')['CLTV'].max()\n",
    "plt.figure(figsize=(4,2))\n",
    "highest_cltv.plot(kind='bar',color=['orange'])\n",
    "plt.title=\"highest cltv based on region\"\n",
    "plt.xlabel='cltv'\n",
    "plt.ylabel='Region'\n",
    "plt.show()\n"
   ]
  },
  {
   "cell_type": "code",
   "execution_count": 65,
   "metadata": {},
   "outputs": [
    {
     "data": {
      "text/plain": [
       "Subscription_Type\n",
       "Postpaid          140\n",
       "Family Plan       134\n",
       "Corporate Plan    134\n",
       "Prepaid            92\n",
       "Name: count, dtype: int64"
      ]
     },
     "execution_count": 65,
     "metadata": {},
     "output_type": "execute_result"
    }
   ],
   "source": [
    "df['Subscription_Type'].value_counts()"
   ]
  },
  {
   "cell_type": "code",
   "execution_count": 74,
   "metadata": {},
   "outputs": [
    {
     "data": {
      "image/png": "[encoded data removed]",
      "text/plain": [
       "<Figure size 600x400 with 1 Axes>"
      ]
     },
     "metadata": {},
     "output_type": "display_data"
    }
   ],
   "source": [
    "plt.figure(figsize=(6,4))\n",
    "sns.boxplot(data=df,x='Subscription_Type',y='Avg_Monthly_Data_Usage_GB')\n",
    "plt.title='Data Usage By Subscription Type'\n",
    "plt.xlabel='Subscriptions Plan'\n",
    "plt.ylabel='Data usage'\n",
    "plt.show()"
   ]
  },
  {
   "cell_type": "code",
   "execution_count": 79,
   "metadata": {},
   "outputs": [
    {
     "data": {
      "image/png": "[encoded data removed]",
      "text/plain": [
       "<Figure size 800x400 with 1 Axes>"
      ]
     },
     "metadata": {},
     "output_type": "display_data"
    }
   ],
   "source": [
    "\n",
    "df['Feedback_Score'].value_counts()\n",
    "plt.figure(figsize=(8,4))\n",
    "sns.histplot(df['Feedback_Score'],kde=True,bins=10)\n",
    "plt.title=\"Distribution of Feedback Score\"\n",
    "plt.xlabel='Feedback'\n",
    "plt.ylabel='Count'\n",
    "plt.show()"
   ]
  },
  {
   "cell_type": "code",
   "execution_count": null,
   "metadata": {},
   "outputs": [],
   "source": []
  }
 ],
 "metadata": {
  "kernelspec": {
   "display_name": "cs-env",
   "language": "python",
   "name": "python3"
  },
  "language_info": {
   "codemirror_mode": {
    "name": "ipython",
    "version": 3
   },
   "file_extension": ".py",
   "mimetype": "text/x-python",
   "name": "python",
   "nbconvert_exporter": "python",
   "pygments_lexer": "ipython3",
   "version": "3.11.4"
  }
 },
 "nbformat": 4,
 "nbformat_minor": 2
}
